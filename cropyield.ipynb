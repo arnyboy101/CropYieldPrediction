{
 "metadata": {
  "language_info": {
   "codemirror_mode": {
    "name": "ipython",
    "version": 3
   },
   "file_extension": ".py",
   "mimetype": "text/x-python",
   "name": "python",
   "nbconvert_exporter": "python",
   "pygments_lexer": "ipython3",
   "version": "3.7.7-final"
  },
  "orig_nbformat": 2,
  "kernelspec": {
   "name": "python3",
   "display_name": "Python 3.7.7 64-bit",
   "metadata": {
    "interpreter": {
     "hash": "8f588a5af2c4e87636181920acd83d9c618abfa0f1d05f40581c4cb3071c3472"
    }
   }
  }
 },
 "nbformat": 4,
 "nbformat_minor": 2,
 "cells": [
  {
   "cell_type": "code",
   "execution_count": 18,
   "metadata": {},
   "outputs": [],
   "source": [
    "import pandas as pd\n",
    "import numpy as np\n",
    "import tensorflow as tf\n",
    "import seaborn as sns\n",
    "import matplotlib.pyplot as plt\n",
    "import tensorflow.keras\n",
    "from tensorflow.keras.layers import *\n",
    "from tensorflow.keras.models import *\n",
    "from sklearn.model_selection import *\n",
    "from sklearn.model_selection import *\n",
    "from sklearn.linear_model import *\n",
    "from sklearn.preprocessing import *\n",
    "from tensorflow.keras.layers.experimental import *\n",
    "from sklearn.metrics import *\n",
    "\n",
    "from sklearn.ensemble import *\n",
    "from datetime import datetime\n",
    "from tensorflow.keras.callbacks import *"
   ]
  },
  {
   "cell_type": "code",
   "execution_count": 19,
   "metadata": {},
   "outputs": [],
   "source": [
    "df = pd.read_csv(\"model1.csv\")"
   ]
  },
  {
   "cell_type": "code",
   "execution_count": 20,
   "metadata": {},
   "outputs": [
    {
     "output_type": "execute_result",
     "data": {
      "text/plain": [
       "   District_Name       Season  Area  Production               Crop\n",
       "0        SIRMAUR  Kharif       34.0    0.000001          Groundnut\n",
       "1      KANDHAMAL  Summer        8.0    0.000001  Moong(Green Gram)\n",
       "2  KANNIYAKUMARI  Kharif        7.0    0.000001  Moong(Green Gram)\n",
       "3    KANCHIPURAM  Kharif        6.0    0.000001                Tur\n",
       "4          MANDI  Kharif        6.0    0.000001          Groundnut"
      ],
      "text/html": "<div>\n<style scoped>\n    .dataframe tbody tr th:only-of-type {\n        vertical-align: middle;\n    }\n\n    .dataframe tbody tr th {\n        vertical-align: top;\n    }\n\n    .dataframe thead th {\n        text-align: right;\n    }\n</style>\n<table border=\"1\" class=\"dataframe\">\n  <thead>\n    <tr style=\"text-align: right;\">\n      <th></th>\n      <th>District_Name</th>\n      <th>Season</th>\n      <th>Area</th>\n      <th>Production</th>\n      <th>Crop</th>\n    </tr>\n  </thead>\n  <tbody>\n    <tr>\n      <th>0</th>\n      <td>SIRMAUR</td>\n      <td>Kharif</td>\n      <td>34.0</td>\n      <td>0.000001</td>\n      <td>Groundnut</td>\n    </tr>\n    <tr>\n      <th>1</th>\n      <td>KANDHAMAL</td>\n      <td>Summer</td>\n      <td>8.0</td>\n      <td>0.000001</td>\n      <td>Moong(Green Gram)</td>\n    </tr>\n    <tr>\n      <th>2</th>\n      <td>KANNIYAKUMARI</td>\n      <td>Kharif</td>\n      <td>7.0</td>\n      <td>0.000001</td>\n      <td>Moong(Green Gram)</td>\n    </tr>\n    <tr>\n      <th>3</th>\n      <td>KANCHIPURAM</td>\n      <td>Kharif</td>\n      <td>6.0</td>\n      <td>0.000001</td>\n      <td>Tur</td>\n    </tr>\n    <tr>\n      <th>4</th>\n      <td>MANDI</td>\n      <td>Kharif</td>\n      <td>6.0</td>\n      <td>0.000001</td>\n      <td>Groundnut</td>\n    </tr>\n  </tbody>\n</table>\n</div>"
     },
     "metadata": {},
     "execution_count": 20
    }
   ],
   "source": [
    "df.head()"
   ]
  },
  {
   "cell_type": "code",
   "execution_count": 21,
   "metadata": {},
   "outputs": [],
   "source": [
    "vectors = pd.get_dummies(df[['District_Name','Season','Crop']])"
   ]
  },
  {
   "cell_type": "code",
   "execution_count": 22,
   "metadata": {},
   "outputs": [],
   "source": [
    "df = pd.concat([df,vectors], axis=1)\n"
   ]
  },
  {
   "cell_type": "code",
   "execution_count": 23,
   "metadata": {},
   "outputs": [
    {
     "output_type": "execute_result",
     "data": {
      "text/plain": [
       "               Area     Production  District_Name_24 PARAGANAS NORTH  \\\n",
       "count  1.229630e+05  122963.000000                     122963.000000   \n",
       "mean   1.927517e+04      11.360841                          0.002017   \n",
       "std    4.915727e+04     239.460543                          0.044864   \n",
       "min    2.000000e-01       0.000001                          0.000000   \n",
       "25%    1.650000e+02       0.001350                          0.000000   \n",
       "50%    1.442000e+03       0.015230                          0.000000   \n",
       "75%    1.168533e+04       0.182830                          0.000000   \n",
       "max    1.020181e+06   12508.000000                          1.000000   \n",
       "\n",
       "       District_Name_24 PARAGANAS SOUTH  District_Name_ADILABAD  \\\n",
       "count                     122963.000000           122963.000000   \n",
       "mean                           0.001992                0.002895   \n",
       "std                            0.044593                0.053729   \n",
       "min                            0.000000                0.000000   \n",
       "25%                            0.000000                0.000000   \n",
       "50%                            0.000000                0.000000   \n",
       "75%                            0.000000                0.000000   \n",
       "max                            1.000000                1.000000   \n",
       "\n",
       "       District_Name_AGAR MALWA  District_Name_AGRA  District_Name_AHMADABAD  \\\n",
       "count             122963.000000       122963.000000            122963.000000   \n",
       "mean                   0.000098            0.002114                 0.001805   \n",
       "std                    0.009878            0.045935                 0.042452   \n",
       "min                    0.000000            0.000000                 0.000000   \n",
       "25%                    0.000000            0.000000                 0.000000   \n",
       "50%                    0.000000            0.000000                 0.000000   \n",
       "75%                    0.000000            0.000000                 0.000000   \n",
       "max                    1.000000            1.000000                 1.000000   \n",
       "\n",
       "       District_Name_AHMEDNAGAR  District_Name_AIZAWL  ...     Crop_Paddy  \\\n",
       "count             122963.000000         122963.000000  ...  122963.000000   \n",
       "mean                   0.003009              0.000821  ...       0.003895   \n",
       "std                    0.054772              0.028648  ...       0.062292   \n",
       "min                    0.000000              0.000000  ...       0.000000   \n",
       "25%                    0.000000              0.000000  ...       0.000000   \n",
       "50%                    0.000000              0.000000  ...       0.000000   \n",
       "75%                    0.000000              0.000000  ...       0.000000   \n",
       "max                    1.000000              1.000000  ...       1.000000   \n",
       "\n",
       "           Crop_Ragi      Crop_Rice   Crop_Sesamum  Crop_Soyabean  \\\n",
       "count  122963.000000  122963.000000  122963.000000  122963.000000   \n",
       "mean        0.033433       0.122622       0.070940       0.025821   \n",
       "std         0.179765       0.328004       0.256726       0.158601   \n",
       "min         0.000000       0.000000       0.000000       0.000000   \n",
       "25%         0.000000       0.000000       0.000000       0.000000   \n",
       "50%         0.000000       0.000000       0.000000       0.000000   \n",
       "75%         0.000000       0.000000       0.000000       0.000000   \n",
       "max         1.000000       1.000000       1.000000       1.000000   \n",
       "\n",
       "       Crop_Sugarcane  Crop_Sunflower       Crop_Tur      Crop_Urad  \\\n",
       "count   122963.000000   122963.000000  122963.000000  122963.000000   \n",
       "mean         0.063548        0.044428       0.060644       0.078633   \n",
       "std          0.243946        0.206045       0.238678       0.269167   \n",
       "min          0.000000        0.000000       0.000000       0.000000   \n",
       "25%          0.000000        0.000000       0.000000       0.000000   \n",
       "50%          0.000000        0.000000       0.000000       0.000000   \n",
       "75%          0.000000        0.000000       0.000000       0.000000   \n",
       "max          1.000000        1.000000       1.000000       1.000000   \n",
       "\n",
       "          Crop_Wheat  \n",
       "count  122963.000000  \n",
       "mean        0.064044  \n",
       "std         0.244832  \n",
       "min         0.000000  \n",
       "25%         0.000000  \n",
       "50%         0.000000  \n",
       "75%         0.000000  \n",
       "max         1.000000  \n",
       "\n",
       "[8 rows x 671 columns]"
      ],
      "text/html": "<div>\n<style scoped>\n    .dataframe tbody tr th:only-of-type {\n        vertical-align: middle;\n    }\n\n    .dataframe tbody tr th {\n        vertical-align: top;\n    }\n\n    .dataframe thead th {\n        text-align: right;\n    }\n</style>\n<table border=\"1\" class=\"dataframe\">\n  <thead>\n    <tr style=\"text-align: right;\">\n      <th></th>\n      <th>Area</th>\n      <th>Production</th>\n      <th>District_Name_24 PARAGANAS NORTH</th>\n      <th>District_Name_24 PARAGANAS SOUTH</th>\n      <th>District_Name_ADILABAD</th>\n      <th>District_Name_AGAR MALWA</th>\n      <th>District_Name_AGRA</th>\n      <th>District_Name_AHMADABAD</th>\n      <th>District_Name_AHMEDNAGAR</th>\n      <th>District_Name_AIZAWL</th>\n      <th>...</th>\n      <th>Crop_Paddy</th>\n      <th>Crop_Ragi</th>\n      <th>Crop_Rice</th>\n      <th>Crop_Sesamum</th>\n      <th>Crop_Soyabean</th>\n      <th>Crop_Sugarcane</th>\n      <th>Crop_Sunflower</th>\n      <th>Crop_Tur</th>\n      <th>Crop_Urad</th>\n      <th>Crop_Wheat</th>\n    </tr>\n  </thead>\n  <tbody>\n    <tr>\n      <th>count</th>\n      <td>1.229630e+05</td>\n      <td>122963.000000</td>\n      <td>122963.000000</td>\n      <td>122963.000000</td>\n      <td>122963.000000</td>\n      <td>122963.000000</td>\n      <td>122963.000000</td>\n      <td>122963.000000</td>\n      <td>122963.000000</td>\n      <td>122963.000000</td>\n      <td>...</td>\n      <td>122963.000000</td>\n      <td>122963.000000</td>\n      <td>122963.000000</td>\n      <td>122963.000000</td>\n      <td>122963.000000</td>\n      <td>122963.000000</td>\n      <td>122963.000000</td>\n      <td>122963.000000</td>\n      <td>122963.000000</td>\n      <td>122963.000000</td>\n    </tr>\n    <tr>\n      <th>mean</th>\n      <td>1.927517e+04</td>\n      <td>11.360841</td>\n      <td>0.002017</td>\n      <td>0.001992</td>\n      <td>0.002895</td>\n      <td>0.000098</td>\n      <td>0.002114</td>\n      <td>0.001805</td>\n      <td>0.003009</td>\n      <td>0.000821</td>\n      <td>...</td>\n      <td>0.003895</td>\n      <td>0.033433</td>\n      <td>0.122622</td>\n      <td>0.070940</td>\n      <td>0.025821</td>\n      <td>0.063548</td>\n      <td>0.044428</td>\n      <td>0.060644</td>\n      <td>0.078633</td>\n      <td>0.064044</td>\n    </tr>\n    <tr>\n      <th>std</th>\n      <td>4.915727e+04</td>\n      <td>239.460543</td>\n      <td>0.044864</td>\n      <td>0.044593</td>\n      <td>0.053729</td>\n      <td>0.009878</td>\n      <td>0.045935</td>\n      <td>0.042452</td>\n      <td>0.054772</td>\n      <td>0.028648</td>\n      <td>...</td>\n      <td>0.062292</td>\n      <td>0.179765</td>\n      <td>0.328004</td>\n      <td>0.256726</td>\n      <td>0.158601</td>\n      <td>0.243946</td>\n      <td>0.206045</td>\n      <td>0.238678</td>\n      <td>0.269167</td>\n      <td>0.244832</td>\n    </tr>\n    <tr>\n      <th>min</th>\n      <td>2.000000e-01</td>\n      <td>0.000001</td>\n      <td>0.000000</td>\n      <td>0.000000</td>\n      <td>0.000000</td>\n      <td>0.000000</td>\n      <td>0.000000</td>\n      <td>0.000000</td>\n      <td>0.000000</td>\n      <td>0.000000</td>\n      <td>...</td>\n      <td>0.000000</td>\n      <td>0.000000</td>\n      <td>0.000000</td>\n      <td>0.000000</td>\n      <td>0.000000</td>\n      <td>0.000000</td>\n      <td>0.000000</td>\n      <td>0.000000</td>\n      <td>0.000000</td>\n      <td>0.000000</td>\n    </tr>\n    <tr>\n      <th>25%</th>\n      <td>1.650000e+02</td>\n      <td>0.001350</td>\n      <td>0.000000</td>\n      <td>0.000000</td>\n      <td>0.000000</td>\n      <td>0.000000</td>\n      <td>0.000000</td>\n      <td>0.000000</td>\n      <td>0.000000</td>\n      <td>0.000000</td>\n      <td>...</td>\n      <td>0.000000</td>\n      <td>0.000000</td>\n      <td>0.000000</td>\n      <td>0.000000</td>\n      <td>0.000000</td>\n      <td>0.000000</td>\n      <td>0.000000</td>\n      <td>0.000000</td>\n      <td>0.000000</td>\n      <td>0.000000</td>\n    </tr>\n    <tr>\n      <th>50%</th>\n      <td>1.442000e+03</td>\n      <td>0.015230</td>\n      <td>0.000000</td>\n      <td>0.000000</td>\n      <td>0.000000</td>\n      <td>0.000000</td>\n      <td>0.000000</td>\n      <td>0.000000</td>\n      <td>0.000000</td>\n      <td>0.000000</td>\n      <td>...</td>\n      <td>0.000000</td>\n      <td>0.000000</td>\n      <td>0.000000</td>\n      <td>0.000000</td>\n      <td>0.000000</td>\n      <td>0.000000</td>\n      <td>0.000000</td>\n      <td>0.000000</td>\n      <td>0.000000</td>\n      <td>0.000000</td>\n    </tr>\n    <tr>\n      <th>75%</th>\n      <td>1.168533e+04</td>\n      <td>0.182830</td>\n      <td>0.000000</td>\n      <td>0.000000</td>\n      <td>0.000000</td>\n      <td>0.000000</td>\n      <td>0.000000</td>\n      <td>0.000000</td>\n      <td>0.000000</td>\n      <td>0.000000</td>\n      <td>...</td>\n      <td>0.000000</td>\n      <td>0.000000</td>\n      <td>0.000000</td>\n      <td>0.000000</td>\n      <td>0.000000</td>\n      <td>0.000000</td>\n      <td>0.000000</td>\n      <td>0.000000</td>\n      <td>0.000000</td>\n      <td>0.000000</td>\n    </tr>\n    <tr>\n      <th>max</th>\n      <td>1.020181e+06</td>\n      <td>12508.000000</td>\n      <td>1.000000</td>\n      <td>1.000000</td>\n      <td>1.000000</td>\n      <td>1.000000</td>\n      <td>1.000000</td>\n      <td>1.000000</td>\n      <td>1.000000</td>\n      <td>1.000000</td>\n      <td>...</td>\n      <td>1.000000</td>\n      <td>1.000000</td>\n      <td>1.000000</td>\n      <td>1.000000</td>\n      <td>1.000000</td>\n      <td>1.000000</td>\n      <td>1.000000</td>\n      <td>1.000000</td>\n      <td>1.000000</td>\n      <td>1.000000</td>\n    </tr>\n  </tbody>\n</table>\n<p>8 rows × 671 columns</p>\n</div>"
     },
     "metadata": {},
     "execution_count": 23
    }
   ],
   "source": [
    "df.describe()"
   ]
  },
  {
   "cell_type": "code",
   "execution_count": 24,
   "metadata": {},
   "outputs": [],
   "source": [
    "X_train, X_test, y_train, y_test = train_test_split(df.drop(['District_Name','Season','Crop','Production'], axis=1),df['Production'],test_size=0.3)"
   ]
  },
  {
   "cell_type": "code",
   "execution_count": 24,
   "metadata": {},
   "outputs": [],
   "source": [
    "\n"
   ]
  },
  {
   "cell_type": "code",
   "execution_count": 25,
   "metadata": {},
   "outputs": [
    {
     "output_type": "execute_result",
     "data": {
      "text/plain": [
       "array([  3.26693517, -12.37096999,   4.23804319, ...,   0.93673959,\n",
       "       -12.35216159,  -7.46682531])"
      ]
     },
     "metadata": {},
     "execution_count": 25
    }
   ],
   "source": [
    "lm = LinearRegression()\n",
    "lm.fit(X_train, y_train)\n",
    "predictions = lm.predict(X_test)\n",
    "\n",
    "predictions"
   ]
  },
  {
   "cell_type": "code",
   "execution_count": 26,
   "metadata": {},
   "outputs": [],
   "source": [
    "values = pd.DataFrame([y_test, predictions])"
   ]
  },
  {
   "cell_type": "code",
   "execution_count": 27,
   "metadata": {},
   "outputs": [
    {
     "output_type": "execute_result",
     "data": {
      "text/plain": [
       "              13719   89217   108486     18547     32266    99050    52183   \\\n",
       "Production  0.000220   0.139   1.116   0.000410   0.00157  0.36139  0.00749   \n",
       "Unnamed 0  -3.184943     NaN     NaN -25.001332  15.62425      NaN      NaN   \n",
       "\n",
       "            107968   48130    107967  ...   66024   90281    95901    9524    \\\n",
       "Production   1.049  0.00554  1.04882  ...  0.02163   0.153  0.25982  0.00010   \n",
       "Unnamed 0      NaN      NaN      NaN  ...      NaN     NaN      NaN -8.88061   \n",
       "\n",
       "              17032    99881    110635  79677    48784   86417   \n",
       "Production  0.000341  0.39788  1.44512   0.062  0.00586  0.1087  \n",
       "Unnamed 0   3.753413      NaN      NaN     NaN      NaN     NaN  \n",
       "\n",
       "[2 rows x 36889 columns]"
      ],
      "text/html": "<div>\n<style scoped>\n    .dataframe tbody tr th:only-of-type {\n        vertical-align: middle;\n    }\n\n    .dataframe tbody tr th {\n        vertical-align: top;\n    }\n\n    .dataframe thead th {\n        text-align: right;\n    }\n</style>\n<table border=\"1\" class=\"dataframe\">\n  <thead>\n    <tr style=\"text-align: right;\">\n      <th></th>\n      <th>13719</th>\n      <th>89217</th>\n      <th>108486</th>\n      <th>18547</th>\n      <th>32266</th>\n      <th>99050</th>\n      <th>52183</th>\n      <th>107968</th>\n      <th>48130</th>\n      <th>107967</th>\n      <th>...</th>\n      <th>66024</th>\n      <th>90281</th>\n      <th>95901</th>\n      <th>9524</th>\n      <th>17032</th>\n      <th>99881</th>\n      <th>110635</th>\n      <th>79677</th>\n      <th>48784</th>\n      <th>86417</th>\n    </tr>\n  </thead>\n  <tbody>\n    <tr>\n      <th>Production</th>\n      <td>0.000220</td>\n      <td>0.139</td>\n      <td>1.116</td>\n      <td>0.000410</td>\n      <td>0.00157</td>\n      <td>0.36139</td>\n      <td>0.00749</td>\n      <td>1.049</td>\n      <td>0.00554</td>\n      <td>1.04882</td>\n      <td>...</td>\n      <td>0.02163</td>\n      <td>0.153</td>\n      <td>0.25982</td>\n      <td>0.00010</td>\n      <td>0.000341</td>\n      <td>0.39788</td>\n      <td>1.44512</td>\n      <td>0.062</td>\n      <td>0.00586</td>\n      <td>0.1087</td>\n    </tr>\n    <tr>\n      <th>Unnamed 0</th>\n      <td>-3.184943</td>\n      <td>NaN</td>\n      <td>NaN</td>\n      <td>-25.001332</td>\n      <td>15.62425</td>\n      <td>NaN</td>\n      <td>NaN</td>\n      <td>NaN</td>\n      <td>NaN</td>\n      <td>NaN</td>\n      <td>...</td>\n      <td>NaN</td>\n      <td>NaN</td>\n      <td>NaN</td>\n      <td>-8.88061</td>\n      <td>3.753413</td>\n      <td>NaN</td>\n      <td>NaN</td>\n      <td>NaN</td>\n      <td>NaN</td>\n      <td>NaN</td>\n    </tr>\n  </tbody>\n</table>\n<p>2 rows × 36889 columns</p>\n</div>"
     },
     "metadata": {},
     "execution_count": 27
    }
   ],
   "source": [
    "values"
   ]
  },
  {
   "cell_type": "code",
   "execution_count": 28,
   "metadata": {},
   "outputs": [],
   "source": [
    "scaler = MinMaxScaler()\n",
    "X_train = scaler.fit_transform(X_train)\n",
    "X_test = scaler.transform(X_test)"
   ]
  },
  {
   "cell_type": "code",
   "execution_count": 29,
   "metadata": {},
   "outputs": [],
   "source": [
    "y_train = y_train.values\n",
    "y_test = y_test.values"
   ]
  },
  {
   "cell_type": "code",
   "execution_count": 11,
   "metadata": {},
   "outputs": [],
   "source": []
  },
  {
   "cell_type": "code",
   "execution_count": 30,
   "metadata": {},
   "outputs": [],
   "source": [
    "model = Sequential()\n"
   ]
  },
  {
   "cell_type": "code",
   "execution_count": 31,
   "metadata": {},
   "outputs": [
    {
     "output_type": "stream",
     "name": "stdout",
     "text": [
      "(86074, 670)\n"
     ]
    }
   ],
   "source": [
    "print(X_train.shape)"
   ]
  },
  {
   "cell_type": "code",
   "execution_count": 32,
   "metadata": {},
   "outputs": [],
   "source": [
    "\n",
    "model.add(Dense(88,activation='relu'))\n",
    "model.add(Dense(177,activation='relu'))\n",
    "model.add(Dense(355,activation='relu'))\n",
    "model.add(Dense(1))"
   ]
  },
  {
   "cell_type": "code",
   "execution_count": 33,
   "metadata": {},
   "outputs": [],
   "source": [
    "model.compile(optimizer='adam', loss='mean_absolute_error',metrics=['accuracy'])"
   ]
  },
  {
   "cell_type": "code",
   "execution_count": 34,
   "metadata": {},
   "outputs": [],
   "source": [
    "early_stop = EarlyStopping(monitor='loss', mode='min', verbose=1, patience=25)"
   ]
  },
  {
   "cell_type": "code",
   "execution_count": 35,
   "metadata": {},
   "outputs": [
    {
     "output_type": "execute_result",
     "data": {
      "text/plain": [
       "array([0.04   , 0.00914, 0.00133, ..., 0.0554 , 0.05142, 0.001  ])"
      ]
     },
     "metadata": {},
     "execution_count": 35
    }
   ],
   "source": [
    "y_train"
   ]
  },
  {
   "cell_type": "code",
   "execution_count": 36,
   "metadata": {},
   "outputs": [
    {
     "output_type": "stream",
     "name": "stdout",
     "text": [
      "Epoch 1/10\n",
      "2690/2690 [==============================] - 7s 3ms/step - loss: 10.0530 - accuracy: 5.5294e-05\n",
      "Epoch 2/10\n",
      "2690/2690 [==============================] - 7s 3ms/step - loss: 5.8496 - accuracy: 4.8659e-05\n",
      "Epoch 3/10\n",
      "2690/2690 [==============================] - 10s 4ms/step - loss: 3.9921 - accuracy: 7.2043e-05\n",
      "Epoch 4/10\n",
      "2690/2690 [==============================] - 7s 3ms/step - loss: 3.5924 - accuracy: 1.8720e-05\n",
      "Epoch 5/10\n",
      "2690/2690 [==============================] - 7s 3ms/step - loss: 4.8008 - accuracy: 9.0639e-05\n",
      "Epoch 6/10\n",
      "2690/2690 [==============================] - 7s 3ms/step - loss: 4.2798 - accuracy: 5.5897e-05\n",
      "Epoch 7/10\n",
      "2690/2690 [==============================] - 7s 3ms/step - loss: 3.9905 - accuracy: 4.1945e-05\n",
      "Epoch 8/10\n",
      "2690/2690 [==============================] - 8s 3ms/step - loss: 3.5617 - accuracy: 4.2370e-05\n",
      "Epoch 9/10\n",
      "2690/2690 [==============================] - 8s 3ms/step - loss: 3.2027 - accuracy: 1.3618e-05\n",
      "Epoch 10/10\n",
      "2690/2690 [==============================] - 12s 4ms/step - loss: 3.9193 - accuracy: 6.6001e-05\n"
     ]
    },
    {
     "output_type": "execute_result",
     "data": {
      "text/plain": [
       "<tensorflow.python.keras.callbacks.History at 0x22b262b1a88>"
      ]
     },
     "metadata": {},
     "execution_count": 36
    }
   ],
   "source": [
    "model.fit(X_train,y_train,epochs=10, callbacks=[early_stop])"
   ]
  },
  {
   "cell_type": "code",
   "execution_count": 37,
   "metadata": {},
   "outputs": [],
   "source": [
    "predictions = model.predict(X_test)"
   ]
  },
  {
   "cell_type": "code",
   "execution_count": 38,
   "metadata": {},
   "outputs": [],
   "source": [
    "values = pd.DataFrame([y_test, predictions])"
   ]
  },
  {
   "cell_type": "code",
   "execution_count": 39,
   "metadata": {},
   "outputs": [
    {
     "output_type": "execute_result",
     "data": {
      "text/plain": [
       "             0                1            2               3      \\\n",
       "0          0.00022            0.139        1.116         0.00041   \n",
       "1  [-0.0021449986]  [-0.0108849285]  [1.2044445]  [-0.010827338]   \n",
       "\n",
       "            4            5              6            7               8      \\\n",
       "0         0.00157      0.36139        0.00749        1.049         0.00554   \n",
       "1  [-0.010023274]  [0.3355725]  [0.017648626]  [1.3133526]  [-0.000894065]   \n",
       "\n",
       "         9      ...            36879        36880         36881  \\\n",
       "0      1.04882  ...          0.02163        0.153       0.25982   \n",
       "1  [1.5365314]  ...  [-0.0018846251]  [0.0665901]  [0.20646192]   \n",
       "\n",
       "            36882           36883       36884        36885           36886  \\\n",
       "0          0.0001        0.000341     0.39788      1.44512           0.062   \n",
       "1  [-0.014114113]  [0.0014149959]  [0.277064]  [1.7902831]  [-0.010727395]   \n",
       "\n",
       "            36887          36888  \n",
       "0         0.00586         0.1087  \n",
       "1  [-0.010047986]  [0.049363155]  \n",
       "\n",
       "[2 rows x 36889 columns]"
      ],
      "text/html": "<div>\n<style scoped>\n    .dataframe tbody tr th:only-of-type {\n        vertical-align: middle;\n    }\n\n    .dataframe tbody tr th {\n        vertical-align: top;\n    }\n\n    .dataframe thead th {\n        text-align: right;\n    }\n</style>\n<table border=\"1\" class=\"dataframe\">\n  <thead>\n    <tr style=\"text-align: right;\">\n      <th></th>\n      <th>0</th>\n      <th>1</th>\n      <th>2</th>\n      <th>3</th>\n      <th>4</th>\n      <th>5</th>\n      <th>6</th>\n      <th>7</th>\n      <th>8</th>\n      <th>9</th>\n      <th>...</th>\n      <th>36879</th>\n      <th>36880</th>\n      <th>36881</th>\n      <th>36882</th>\n      <th>36883</th>\n      <th>36884</th>\n      <th>36885</th>\n      <th>36886</th>\n      <th>36887</th>\n      <th>36888</th>\n    </tr>\n  </thead>\n  <tbody>\n    <tr>\n      <th>0</th>\n      <td>0.00022</td>\n      <td>0.139</td>\n      <td>1.116</td>\n      <td>0.00041</td>\n      <td>0.00157</td>\n      <td>0.36139</td>\n      <td>0.00749</td>\n      <td>1.049</td>\n      <td>0.00554</td>\n      <td>1.04882</td>\n      <td>...</td>\n      <td>0.02163</td>\n      <td>0.153</td>\n      <td>0.25982</td>\n      <td>0.0001</td>\n      <td>0.000341</td>\n      <td>0.39788</td>\n      <td>1.44512</td>\n      <td>0.062</td>\n      <td>0.00586</td>\n      <td>0.1087</td>\n    </tr>\n    <tr>\n      <th>1</th>\n      <td>[-0.0021449986]</td>\n      <td>[-0.0108849285]</td>\n      <td>[1.2044445]</td>\n      <td>[-0.010827338]</td>\n      <td>[-0.010023274]</td>\n      <td>[0.3355725]</td>\n      <td>[0.017648626]</td>\n      <td>[1.3133526]</td>\n      <td>[-0.000894065]</td>\n      <td>[1.5365314]</td>\n      <td>...</td>\n      <td>[-0.0018846251]</td>\n      <td>[0.0665901]</td>\n      <td>[0.20646192]</td>\n      <td>[-0.014114113]</td>\n      <td>[0.0014149959]</td>\n      <td>[0.277064]</td>\n      <td>[1.7902831]</td>\n      <td>[-0.010727395]</td>\n      <td>[-0.010047986]</td>\n      <td>[0.049363155]</td>\n    </tr>\n  </tbody>\n</table>\n<p>2 rows × 36889 columns</p>\n</div>"
     },
     "metadata": {},
     "execution_count": 39
    }
   ],
   "source": [
    "values"
   ]
  },
  {
   "cell_type": "code",
   "execution_count": 40,
   "metadata": {},
   "outputs": [
    {
     "output_type": "stream",
     "name": "stdout",
     "text": [
      "58.91876296511587\n"
     ]
    }
   ],
   "source": [
    "print(mean_squared_error(y_test,predictions,squared=False))"
   ]
  },
  {
   "cell_type": "code",
   "execution_count": null,
   "metadata": {},
   "outputs": [],
   "source": []
  }
 ]
}